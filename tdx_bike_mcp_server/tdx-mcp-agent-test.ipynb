{
    "cells": [
        {
            "cell_type": "code",
            "execution_count": 18,
            "id": "961b8862",
            "metadata": {},
            "outputs": [
                {
                    "name": "stdout",
                    "output_type": "stream",
                    "text": [
                        "OPENAI_API_KEY: sk-28...\n",
                        "OPENAI_BASE_URL: http://localhost:4000/v1\n"
                    ]
                }
            ],
            "source": [
                "from mcp_agent.app import MCPApp\n",
                "from mcp_agent.agents.agent import Agent\n",
                "from mcp_agent.workflows.llm.augmented_llm import RequestParams\n",
                "from mcp_agent.workflows.llm.augmented_llm_openai import OpenAIAugmentedLLM\n",
                "from mcp_agent.config import (\n",
                "    Settings,\n",
                "    MCPSettings,\n",
                "    LoggerSettings,\n",
                "    OpenAISettings\n",
                ")\n",
                "\n",
                "import os\n",
                "from dotenv import load_dotenv\n",
                "load_dotenv()\n",
                "\n",
                "OPENAI_API_KEY = os.getenv(\"OPENAI_API_KEY\", default=None)\n",
                "OPENAI_BASE_URL = os.getenv(\"OPENAI_BASE_URL\", default=None)\n",
                "\n",
                "\n",
                "if OPENAI_API_KEY is None or OPENAI_BASE_URL is None:\n",
                "    raise ValueError(\"請設定環境變數 OPENAI_API_KEY 和 OPENAI_BASE_URL\")\n",
                "\n",
                "print(\"OPENAI_API_KEY:\", OPENAI_API_KEY[:5] + \"...\")\n",
                "print(\"OPENAI_BASE_URL:\", OPENAI_BASE_URL)"
            ]
        },
        {
            "cell_type": "code",
            "execution_count": 19,
            "id": "0204ab11",
            "metadata": {},
            "outputs": [],
            "source": [
                "settings = Settings(\n",
                "        execution_engine=\"asyncio\",\n",
                "        logger=LoggerSettings(transports=[\"file\"], level=\"debug\"),\n",
                "        mcp=MCPSettings(\n",
                "            servers={\"TDX_BIKE\":{\n",
                "                \"name\": \"Bike Rental Service\",\n",
                "                \"transport\": \"sse\",\n",
                "                \"url\": \"http://localhost:8002/sse\",\n",
                "            }}\n",
                "        ),\n",
                "        openai=OpenAISettings(\n",
                "            api_key=OPENAI_API_KEY,\n",
                "            base_url=OPENAI_BASE_URL,\n",
                "        )\n",
                "    )"
            ]
        },
        {
            "cell_type": "code",
            "execution_count": null,
            "id": "99ba252d",
            "metadata": {},
            "outputs": [],
            "source": [
                "instruction=\"\"\"\n",
                "你是一名公共自行車的服務人員，你可以回答有關公共自行車的問題。\n",
                "\n",
                "當使用者問你「臺中科技大學附近有沒有自行車站？」時，你可以使用 TData 格式的過濾條件查詢鄰近站點，條件如下：  \n",
                "contains(StationName/Zh_tw, '臺中科技大學')\n",
                "\n",
                "當使用者問你「xxx站點目前是否還有自行車可供租借？」或「該站點剩餘幾台車？」時，請依下列流程操作：\n",
                "1. 先使用 TData 查詢該站的基本資訊（如站名模糊搜尋）取得 StationID\n",
                "2. 再用該 StationID 作為查詢條件，透過 TDX_BIKE_BikeApi_Availability 查詢即時可借車輛數  \n",
                "   範例如：$filter = \"StationID eq '500605061'\"\n",
                "\n",
                "請務必依照工具需求提供格式正確的參數，並避免使用模糊、不完整或結構不正確的資訊。若使用者輸入不足，請進行追問後再執行查詢。\n",
                "\n",
                "若 MCP 工具回傳資料為空，請清楚告知使用者。\n",
                "\n",
                "After receiving a response from the tool, always prepend your final reply with the agent and tool name in square brackets.  \n",
                "For example: [transportation_agent] [get_bike_station_status]\n",
                "\"\"\""
            ]
        },
        {
            "cell_type": "code",
            "execution_count": null,
            "id": "26ee3b14",
            "metadata": {},
            "outputs": [],
            "source": [
                "# instruction = \"\"\"\n",
                "# 你是一名公共自行車的服務人員，你可以回答有關公共自行車的問題。\n",
                "\n",
                "# 當使用者問你「臺中科技大學附近有沒有自行車站？」時，你可以使用TData格式過濾器來查詢臺中科技大學附近的自行車站，過濾條件\\\"contains(StationName/Zh_tw, '臺中科技大學')\\\n",
                "\n",
                "# 當使用者問你「xxx站點目前是否還有自行車可供租借的資訊」時，你可以使用TDX_BIKE_BikeApi_Availability的$filter=\"StationID eq '{查詢到的站點ID}'\"來查詢該車站的剩餘車位數量。\n",
                "# \"\"\""
            ]
        },
        {
            "cell_type": "code",
            "execution_count": null,
            "id": "1bb38a91",
            "metadata": {},
            "outputs": [],
            "source": [
                "app = MCPApp(\n",
                "    name=\"My Agent App\",\n",
                "    settings=settings\n",
                ")\n",
                "async with app.run() as mcp_agent_app:\n",
                "    bike_agent = Agent(\n",
                "        name=\"Bike Agent\",\n",
                "        instruction=instruction,\n",
                "        server_names=[\"TDX_BIKE\"]\n",
                "    )\n",
                "\n",
                "    async with bike_agent:\n",
                "        result_tools = await bike_agent.list_tools()\n",
                "        print(\"tools數量\", len(result_tools.tools)-1)\n",
                "        llm = await bike_agent.attach_llm(OpenAIAugmentedLLM)"
            ]
        },
        {
            "cell_type": "code",
            "execution_count": null,
            "id": "4d8194aa",
            "metadata": {},
            "outputs": [],
            "source": [
                "### 情境一\n",
                "result = await llm.generate_str(\n",
                "    message=\"臺中科技大學附近是否有公共自行車站點，如果有請提供該站點目前是否還有自行車可供租借的資訊。\",\n",
                "    request_params=RequestParams(model=\"gpt-4o\", use_history=False)\n",
                ")\n",
                "print(result)"
            ]
        },
        {
            "cell_type": "code",
            "execution_count": null,
            "id": "7475c0b1",
            "metadata": {},
            "outputs": [],
            "source": [
                "### 情境二\n",
                "result = await llm.generate_str(\n",
                "    message=\"太平國小附近是否有公共自行車站點，如果有請提供該站點目前是否還有自行車可供租借的資訊。\",\n",
                "    request_params=RequestParams(model=\"gpt-4o\", use_history=False)\n",
                ")\n",
                "print(result)"
            ]
        }
    ],
    "metadata": {
        "kernelspec": {
            "display_name": "net-course-mcp-demo (3.12.9)",
            "language": "python",
            "name": "python3"
        },
        "language_info": {
            "codemirror_mode": {
                "name": "ipython",
                "version": 3
            },
            "file_extension": ".py",
            "mimetype": "text/x-python",
            "name": "python",
            "nbconvert_exporter": "python",
            "pygments_lexer": "ipython3",
            "version": "3.12.9"
        }
    },
    "nbformat": 4,
    "nbformat_minor": 5
}
